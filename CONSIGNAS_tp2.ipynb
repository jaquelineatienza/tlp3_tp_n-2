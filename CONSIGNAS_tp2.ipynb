{
 "cells": [
  {
   "cell_type": "markdown",
   "metadata": {},
   "source": [
    "# Criterios de evaluación.\n",
    "\n",
    "* Se deben utilizar nombres de variables descriptivos y claros.\n",
    "* Cada ejercicio debe ser realizado utilizando **FUNCIONES**, NO solo codigo suelto.\n",
    "* Comentarios claros y concisos que expliquen el propósito de cada sección del código.\n",
    "* Entrega en tiempo y forma.\n",
    "* Todo el código desarrollado debe ser subido a un repositorio en GitHub.\n",
    "\n",
    "\n",
    "**Aclaración: Para resolver las actividades se debe incertar casillas de codigo entre cada actividad del cuaderno de Jupyter**"
   ]
  },
  {
   "cell_type": "markdown",
   "metadata": {},
   "source": [
    "### 1. **Bucles**\n",
    "\n",
    "   - **Actividad 1.1**: Escribir un programa que muestre el print de todo lo que el usuario introduzca hasta que el usuario escriba “salir” que terminará.\n",
    "   \n",
    "   - **Actividad 1.2**: Escribir un programa que pida al usuario un número entero y muestre por pantalla un triángulo rectángulo como el de más abajo con la cantidad de escalones indicados previamente (los numeros dentro del triangulo deben ser enteros aleatorios del 0 al 9).\n",
    "* 1\n",
    "* 3 1\n",
    "* 5 3 1\n",
    "* 7 5 3 1\n",
    "* 9 7 5 3 1"
   ]
  },
  {
   "cell_type": "code",
   "execution_count": null,
   "metadata": {},
   "outputs": [],
   "source": [
    "\n",
    "# todo: Resolución\n",
    "# ! 1\n",
    "while True:\n",
    "    mesnsaje_usuario = str(input('ingrese algo').lower()) ## el usuario ingresa el mensaje y se conbierte en minisculas\n",
    "    print(mesnsaje_usuario)\n",
    "    if mesnsaje_usuario == 'salir':\n",
    "        break"
   ]
  },
  {
   "cell_type": "code",
   "execution_count": 4,
   "metadata": {},
   "outputs": [
    {
     "name": "stdout",
     "output_type": "stream",
     "text": [
      "6\n",
      "0 8\n",
      "5 1 2\n",
      "0 2 0 6\n"
     ]
    }
   ],
   "source": [
    "\n",
    "# todo: resolución\n",
    "\n",
    "# ! 2\n",
    "import random \n",
    "n = int(input('ingrese el total de escalones de la piramide')) ;\n",
    "##funcion que pinta la piramide\n",
    "def draw_pyradrym(n):\n",
    "        for i in range(1, n + 1):\n",
    "            fila = [str(random.randint(0, 9)) for _ in range(i)]  \n",
    "            fila.reverse()  \n",
    "            print(\" \".join(fila)) \n",
    "\n",
    "draw_pyradrym(n)"
   ]
  },
  {
   "cell_type": "markdown",
   "metadata": {},
   "source": [
    "### 2. **Listas y Tuplas**\n",
    "\n",
    "   - **Actividad 1**: Escribir un programa que pida al usuario una frase y muestre por pantalla el número de veces que contiene cada vocal y la cantidad de espacios en blanco.\n",
    "\n",
    "   - **Actividad 2**: Escribir un programa que cree una matriz (con numeros aleatorios del 1 al 100) usando las dimensiones de X e Y que el usuario deberia ingresar por consola, luego crea una tupla con la matriz transpuesta y por ultimo las muestra ambas por consola .\n",
    "\n",
    "   - **Actividad 3**: Escribir un programa que almacene en una lista los siguientes precios, 50, 75, 46, 22, 80, 65, 8, y muestre por pantalla el menor y el mayor de los precios"
   ]
  },
  {
   "cell_type": "code",
   "execution_count": 5,
   "metadata": {},
   "outputs": [
    {
     "name": "stdout",
     "output_type": "stream",
     "text": [
      "\n",
      "Cantidad de cada vocal:\n",
      "a: 1\n",
      "o: 2\n",
      "u: 1\n",
      "\n",
      "Cantidad de espacios en blanco: 1\n"
     ]
    }
   ],
   "source": [
    "\n",
    "# todo: Resolución\n",
    "\n",
    "# ! 1\n",
    "frase_usuario = str(input('ingrese una frase').lower());\n",
    "vocales = \"a,e,i,o,u\"\n",
    "def contarVocales (frase):\n",
    "    contar = {v: frase.count(v) for v in vocales}  \n",
    "    espacios = frase.count(\" \") \n",
    "    print(\"\\nCantidad de cada vocal:\")\n",
    "    for vocal, cantidad in contar.items():\n",
    "        if cantidad > 0:\n",
    "            print(f\"{vocal}: {cantidad}\")\n",
    "    \n",
    "    print(f\"\\nCantidad de espacios en blanco: {espacios}\")\n",
    "\n",
    "contarVocales(frase_usuario)"
   ]
  },
  {
   "cell_type": "code",
   "execution_count": null,
   "metadata": {},
   "outputs": [
    {
     "name": "stdout",
     "output_type": "stream",
     "text": [
      "\n",
      "Matriz original:\n",
      "[33, 10, 76, 71, 45]\n",
      "[66, 58, 73, 73, 100]\n",
      "[41, 45, 22, 31, 25]\n",
      "[95, 72, 79, 31, 23]\n",
      "\n",
      "Matriz transpuesta:\n",
      "(33, 66, 41, 95)\n",
      "(10, 58, 45, 72)\n",
      "(76, 73, 22, 79)\n",
      "(71, 73, 31, 31)\n",
      "(45, 100, 25, 23)\n"
     ]
    }
   ],
   "source": [
    "\n",
    "# todo: Resolución\n",
    "\n",
    "# ! 2\n",
    "import random\n",
    "\n",
    "\n",
    "x = int(input(\"Ingrese el número de filas (X): \"))\n",
    "y = int(input(\"Ingrese el número de columnas (Y): \"))\n",
    "\n",
    "matriz = [[random.randint(1, 100) for _ in range(y)] for _ in range(x)]\n",
    "\n",
    "\n",
    "transpuesta = tuple(zip(*matriz))\n",
    "\n",
    "## pinta la matriz original\n",
    "print(\"\\nMatriz original:\")\n",
    "for fila in matriz:\n",
    "    print(fila)\n",
    "## pinta la matriz transpuesta \n",
    "print(\"\\nMatriz transpuesta:\")\n",
    "for fila in transpuesta:\n",
    "    print(fila)"
   ]
  },
  {
   "cell_type": "code",
   "execution_count": null,
   "metadata": {},
   "outputs": [],
   "source": [
    "\n",
    "# todo: Resolución\n",
    "\n",
    "# ! 3\n",
    "precios = [50, 75, 46, 22, 80, 65, 8]\n",
    "\n",
    "menor = min(precios)\n",
    "mayor = max(precios)\n",
    "\n",
    "print(f'el numero menor es {menor} y el mayor {mayor}' )"
   ]
  },
  {
   "cell_type": "markdown",
   "metadata": {},
   "source": [
    "### 3. **Diccionarios**\n",
    "\n",
    "   - **Actividad 1**: Escribir un programa que cree un diccionario simulando una cesta de la compra. El programa debe preguntar el artículo y su precio y añadir el par al diccionario, hasta que el usuario decida terminar. Después se debe mostrar por pantalla la lista de la compra y el coste total, con el siguiente formato.\n",
    "\n",
    "   | arts  |precio |\n",
    "   |-------|-------|\n",
    "   |art 1  |1      |\n",
    "   |art 2  |2      |\n",
    "   |art 3  |3      |\n",
    "   |total  |6      |\n",
    "\n",
    "   - **Actividad 2**: Escribir un programa que cree un diccionario de traducción español-inglés. El usuario introducirá las palabras en español e inglés separadas por dos puntos, y cada par <palabra> : <traducción> separados por comas (es decir, solo se debe usar **UNA VEZ** la función input para la carga de palabras). El programa debe crear un diccionario con las palabras y sus traducciones. Después pedirá una frase en español y utilizará el diccionario para traducirla palabra a palabra. Si una palabra no está en el diccionario debe dejarla sin traducir.\n",
    "\n",
    "   - **Actividad 3**: Escribir un programa que reciba una cadena de caracteres y devuelva un diccionario con cada palabra que contiene y su frecuencia. Escribir otra función que reciba el diccionario generado con la función anterior y devuelva una tupla con la palabra más repetida y su frecuencia."
   ]
  },
  {
   "cell_type": "code",
   "execution_count": null,
   "metadata": {},
   "outputs": [],
   "source": [
    "\n",
    "# todo: Resolución\n",
    "\n",
    "# ! 1\n",
    "def compras():\n",
    "    carrito = {} \n",
    "    \n",
    "    while True:\n",
    "        articulo = input(\"Ingrese el nombre del artículo (o 'fin' para terminar): \")\n",
    "        if articulo.lower() == \"fin\":\n",
    "            break\n",
    "        precio = float(input(f\"Ingrese el precio de {articulo}: \"))\n",
    "        carrito[articulo] = precio\n",
    "\n",
    "    \n",
    "    print(\"\\n| Artículo  | Precio |\")\n",
    "    print(\"|-----------|--------|\")\n",
    "    total = 0\n",
    "    for art, precio in carrito.items():\n",
    "        print(f\"| {art.ljust(9)} | {precio:>6.2f} |\")\n",
    "        total += precio\n",
    "\n",
    "    print(\"| Total     |\", f\"{total:>6.2f} |\")  \n",
    "\n",
    "compras()"
   ]
  },
  {
   "cell_type": "code",
   "execution_count": null,
   "metadata": {},
   "outputs": [],
   "source": [
    "\n",
    "# todo: Resolución\n",
    "\n",
    "# ! 2\n",
    "palabra_ingles = input(\"Ingrese palabras en formato 'español:inglés' separadas por comas: \")\n",
    "\n",
    "diccionario = dict(item.split(\":\") for item in palabra_ingles.split(\", \"))\n",
    "\n",
    "texto = input(\"Ingrese una frase en español: \").split()\n",
    "\n",
    "traduccion = [diccionario.get(palabra, palabra) for palabra in texto]\n",
    "\n",
    "print(\"Traducción:\", \" \".join(traduccion))\n"
   ]
  },
  {
   "cell_type": "code",
   "execution_count": null,
   "metadata": {},
   "outputs": [],
   "source": [
    "\n",
    "# todo: Resolución\n",
    "\n",
    "# ! 3\n",
    "palabras = texto.lower().split()\n",
    "frecuencia = {}\n",
    "\n",
    "def conteo_palabras(frase):\n",
    "    palabras = frase.lower().split()\n",
    "    frecuencia = {}\n",
    "    for palabra in palabras:\n",
    "        frecuencia[palabra] = frecuencia.get(palabra, 0) + 1\n",
    "    return frecuencia\n",
    "\n",
    "def palabras_mas_repetidas(diccionario):\n",
    "    return max(diccionario.items(), key=lambda x: x[1])\n",
    "\n",
    "frase = input(\"Ingrese un texto: \")\n",
    "palabras_repetidas = conteo_palabras(frase)\n",
    "\n",
    "print(\"\\nFrecuencia de palabras:\", palabras_repetidas)\n",
    "\n",
    "palabra_repetida, frecuencia = palabras_mas_repetidas(palabras_repetidas)\n",
    "\n",
    "print(f\"\\nLa palabra más repetida es '{palabra_repetida}' con {frecuencia} apariciones.\")"
   ]
  },
  {
   "cell_type": "markdown",
   "metadata": {},
   "source": [
    "### 4. **Funciones**\n",
    "\n",
    "- **Actividad 1**: Escribir una función que calcule el total de una factura tras aplicarle el IVA. La función debe recibir la cantidad sin IVA y el porcentaje de IVA a aplicar, y devolver el total de la factura. Si se invoca la función sin pasarle el porcentaje de IVA, deberá aplicar un 21%.\n",
    "\n",
    "- **Actividad 2**: Escribir una función que reciba un número entero positivo y devuelva su factorial.\n"
   ]
  },
  {
   "cell_type": "code",
   "execution_count": null,
   "metadata": {},
   "outputs": [],
   "source": [
    "\n",
    "# todo: Resolución\n",
    "\n",
    "# ! 1\n",
    "def Boleta_iva(boleta,iva):\n",
    "    result = boleta + iva\n",
    "    if iva == \" \":\n",
    "        result= boleta*1.21\n",
    "        print(result)\n",
    "    else:\n",
    "         print(result)\n",
    "Boleta_iva(100,10.1)"
   ]
  },
  {
   "cell_type": "code",
   "execution_count": null,
   "metadata": {},
   "outputs": [],
   "source": [
    "\n",
    "# todo: Resolución\n",
    "\n",
    "# ! 2\n",
    "def factorial(n):\n",
    "        resultado = 1\n",
    "        for i in range(1, n + 1):\n",
    "            resultado *= i\n",
    "        return resultado\n",
    "\n",
    "num = int(input(\"Ingrese un número: \"))\n",
    "print(f\"{num}! = {factorial(num)}\")"
   ]
  }
 ],
 "metadata": {
  "kernelspec": {
   "display_name": "Python 3",
   "language": "python",
   "name": "python3"
  },
  "language_info": {
   "codemirror_mode": {
    "name": "ipython",
    "version": 3
   },
   "file_extension": ".py",
   "mimetype": "text/x-python",
   "name": "python",
   "nbconvert_exporter": "python",
   "pygments_lexer": "ipython3",
   "version": "3.12.9"
  }
 },
 "nbformat": 4,
 "nbformat_minor": 2
}
